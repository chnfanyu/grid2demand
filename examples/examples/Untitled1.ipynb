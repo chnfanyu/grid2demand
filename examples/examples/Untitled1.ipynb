{
 "cells": [
  {
   "cell_type": "code",
   "execution_count": 1,
   "metadata": {},
   "outputs": [
    {
     "name": "stdout",
     "output_type": "stream",
     "text": [
      "grid2demand, version 0.0.1.15\n"
     ]
    },
    {
     "name": "stderr",
     "output_type": "stream",
     "text": [
      "2021-01-29 19:16:00,963 - grid2demand_0130a.py[line:907] - WARNING: Accessibility matrix is not defined! It will be calculated by straight-line distance between zone centroids.\n"
     ]
    },
    {
     "name": "stdout",
     "output_type": "stream",
     "text": [
      "\n",
      "Trip purpose used for grid2demand is: 1\n",
      "\n",
      "Total number of poi nodes with unmatched production rate are: 0\n",
      "Total number of poi nodes with unmatched attraction rate are: 0\n",
      "\n",
      "Latitude used for grid2demand is: 30\n",
      "\n",
      "Default values of friction factor coefficients under trip purpose 1 are: \n",
      "a= 28507 \n",
      "b= -0.02 \n",
      "c= -0.123\n"
     ]
    }
   ],
   "source": [
    "import grid2demand as gd\n",
    "\n",
    "\"Step 1: Read Input Network Data\"\n",
    "gd.ReadNetworkFiles()\n",
    "\n",
    "\"Step 2: Partition Grid into cells\"\n",
    "gd.PartitionGrid(number_of_x_blocks=None, number_of_y_blocks=None, cell_width=500, cell_height=500, latitude=30)\n",
    "\n",
    "\"Step 3: Get Production/Attraction Rates of Each Land Use Type with a Specific Trip Purpose\"\n",
    "gd.GetPoiTripRate(trip_purpose=1)\n",
    "\n",
    "\"Step 4: Define Production/Attraction Value of Each Node According to POI Type\"\n",
    "gd.GetNodeDemand()\n",
    "\n",
    "\"Step 5: Calculate Zone-to-zone Accessibility Matrix by Centroid-to-centroid Straight Distance\"\n",
    "gd.ProduceAccessMatrix(latitude=30)\n",
    "\n",
    "\"Step 6: Apply Gravity Model to Perform Trip Distribution\"\n",
    "gd.RunGravityModel(trip_purpose=1, a=None, b=None, c=None)\n",
    "\n",
    "\"Step 7: Generate Agent\"\n",
    "gd.GenerateAgentBasedDemand()"
   ]
  },
  {
   "cell_type": "code",
   "execution_count": null,
   "metadata": {},
   "outputs": [],
   "source": []
  }
 ],
 "metadata": {
  "kernelspec": {
   "display_name": "Python 3",
   "language": "python",
   "name": "python3"
  },
  "language_info": {
   "codemirror_mode": {
    "name": "ipython",
    "version": 3
   },
   "file_extension": ".py",
   "mimetype": "text/x-python",
   "name": "python",
   "nbconvert_exporter": "python",
   "pygments_lexer": "ipython3",
   "version": "3.7.6"
  }
 },
 "nbformat": 4,
 "nbformat_minor": 4
}
